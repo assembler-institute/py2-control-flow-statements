{
 "cells": [
  {
   "cell_type": "code",
   "execution_count": null,
   "id": "7ffde440",
   "metadata": {},
   "outputs": [],
   "source": []
  },
  {
   "cell_type": "markdown",
   "id": "1ce5ad12",
   "metadata": {},
   "source": [
    "# GAME PILLS (Berta y Sergio) Extras de Sergio\n"
   ]
  },
  {
   "cell_type": "markdown",
   "id": "1559cffd",
   "metadata": {},
   "source": [
    "##  Game: Guess the number"
   ]
  },
  {
   "cell_type": "code",
   "execution_count": 11,
   "id": "6ca05a08",
   "metadata": {},
   "outputs": [],
   "source": [
    "import random\n",
    "\n",
    "list1=list(range(1,11))\n",
    "N=random.choice(list1)\n",
    "\n",
    "def guess():\n",
    "    \n",
    "    n=int(input(\"Guess a number: \"))\n",
    "    count=1\n",
    "    \n",
    "    if n==N:\n",
    "        print(\"You guessed the number in {} attempts.\".format(count) )\n",
    "    \n",
    "    while n!=N:\n",
    "            \n",
    "        if n>N:\n",
    "            print(\"Your number is bigger\")\n",
    "            if count==5:\n",
    "                print(\"WARNING!! You atempted 5 times!!\")\n",
    "        else :\n",
    "            print(\"Your number is smaller\")\n",
    "            if count==5:\n",
    "                print(\"WARNING!! You atempted 5 times!!\")\n",
    "        n=int(input(\"Guess again: \"))\n",
    "        print(n)\n",
    "        count+=1\n",
    "    \n",
    "    print(\"You guessed the number in {} attempts.\".format(count) )   \n",
    "\n",
    "     \n"
   ]
  },
  {
   "cell_type": "code",
   "execution_count": 12,
   "id": "687e3de2",
   "metadata": {},
   "outputs": [
    {
     "name": "stdout",
     "output_type": "stream",
     "text": [
      "Guess a number: 3\n",
      "Your number is smaller\n",
      "Guess again: 4\n",
      "4\n",
      "Your number is smaller\n",
      "Guess again: 5\n",
      "5\n",
      "You guessed the number in 3 attempts.\n"
     ]
    }
   ],
   "source": [
    "guess()  "
   ]
  },
  {
   "cell_type": "markdown",
   "id": "af3b4edf",
   "metadata": {},
   "source": [
    "## Game: Rock paper scissors\n"
   ]
  },
  {
   "cell_type": "code",
   "execution_count": 1,
   "id": "9524798c",
   "metadata": {},
   "outputs": [],
   "source": [
    "import random\n",
    "def whatwechoose():\n",
    "    x=input(\"Choose between rock, paper or scissors: \\n\")\n",
    "    return x\n",
    "\n",
    "choices=[\"rock\",\"paper\",\"scissors\"]\n",
    "def whatcompchooses(choice):\n",
    "    y= random.choice(choice)\n",
    "    print(y)\n",
    "    return y\n",
    "\n",
    "\n",
    "def combat (x,y):\n",
    "    compcount,usercount=0,0\n",
    "    \n",
    "    if ((x==\"rock\" and y==\"paper\") or (x==\"scissors\" and y==\"rock\") or (x==\"paper\" and y==\"scissors\")):\n",
    "        print(\"You lose!!\")\n",
    "        compcount+=1\n",
    "    elif x==y:\n",
    "        print(\"draw\")\n",
    "    else:\n",
    "        print(\"You win!!\")\n",
    "        usercount+=1\n",
    "    \n",
    "    return usercount,compcount   \n",
    "        \n",
    "def jugar():\n",
    "    n=\"yes\"\n",
    "    playcount=0\n",
    "    usertotal,computotal=0,0\n",
    "    while playcount<3:\n",
    "        \n",
    "        x=whatwechoose()\n",
    "        y=whatcompchooses(choices)\n",
    "        userwins,compwins=combat(x,y)\n",
    "        usertotal+=userwins\n",
    "        computotal+=compwins   \n",
    "        playcount+=1\n",
    "        print(\" User {}: {} Computer\".format(usertotal,computotal) )\n",
    "    \n",
    "    if usertotal<computotal:\n",
    "        print(\"The game ended. YOU LOSE THE GAME!!!!Sorry.... \")\n",
    "    elif usertotal==computotal:\n",
    "        print(\" The game ended. It is a draw.\")\n",
    "    else:\n",
    "        print(\"CONGRATULATIONS!! YOU WIN \")"
   ]
  },
  {
   "cell_type": "code",
   "execution_count": 2,
   "id": "9e8be165",
   "metadata": {},
   "outputs": [
    {
     "name": "stdout",
     "output_type": "stream",
     "text": [
      "Choose between rock, paper or scissors: \n",
      "rock\n",
      "paper\n",
      "You lose!!\n",
      " User 0: 1 Computer\n",
      "Choose between rock, paper or scissors: \n",
      "rock\n",
      "paper\n",
      "You lose!!\n",
      " User 0: 2 Computer\n",
      "Choose between rock, paper or scissors: \n",
      "paper\n",
      "rock\n",
      "You win!!\n",
      " User 1: 2 Computer\n",
      "The game ended. YOU LOSE THE GAME!!!!Sorry.... \n"
     ]
    }
   ],
   "source": [
    "jugar()"
   ]
  },
  {
   "cell_type": "markdown",
   "id": "73c014c5",
   "metadata": {},
   "source": [
    "## Game: Rock paper scissors lizard Spock"
   ]
  },
  {
   "cell_type": "code",
   "execution_count": 5,
   "id": "7c982e59",
   "metadata": {},
   "outputs": [],
   "source": [
    "\n",
    "import random\n",
    "def whatwechoose():\n",
    "    x=input(\"Choose between rock, paper, scissors, lizard or spock: \\n\")\n",
    "    return x\n",
    "\n",
    "choices=[\"rock\",\"paper\",\"scissors\", \"lizard\", \"spock\"]\n",
    "def whatcompchooses(listofchoices):\n",
    "    y= random.choice(listofchoices)\n",
    "    print(y)\n",
    "    return y\n",
    "    \n",
    "    \n",
    "def combat (x,y):\n",
    "    if (x==\"rock\" and y==\"paper\")or (x==\"spock\" and y==\"paper\") or (x==\"scissors\"and y==\"rock\")or (x==\"lizard\" \n",
    "        and y==\"rock\") or (x==\"paper\" and y==\"scissors\")or (x==\"lizard\"and y==\"scissors\")or(x==\"rock\" \n",
    "        and y==\"spock\")or (x==\"scissors\" and y==\"spock\")or (x==\"spock\"and y==\"lizard\")or (x==\"paper\"and y==\"lizard\"):\n",
    "        print(\"You lose!!\")\n",
    "    elif x==y:\n",
    "        print(\"draw\")\n",
    "    else:\n",
    "        print(\"You win!!\")\n",
    "\n",
    "def jugar():\n",
    "    n=\"yes\"\n",
    "      \n",
    "    while n.lower()==\"yes\":\n",
    "        x=whatwechoose()\n",
    "        y=whatcompchooses(choices)\n",
    "        combat(x,y)\n",
    "        n=input(\"Do you want to keep on playing?: \")\n",
    "        while n not in \"yesnot\":\n",
    "           print(\"Write yes or no\")\n",
    "           n=input(\"Do you want to keep on playing?: \")\n",
    "\n"
   ]
  },
  {
   "cell_type": "code",
   "execution_count": 6,
   "id": "73cc682e",
   "metadata": {},
   "outputs": [
    {
     "name": "stdout",
     "output_type": "stream",
     "text": [
      "Choose between rock, paper, scissors, lizard or spock: \n",
      "rock\n",
      "rock\n",
      "draw\n",
      "Do you want to keep on playing?: rock\n",
      "Write yes or no\n",
      "Do you want to keep on playing?: yes\n",
      "Choose between rock, paper, scissors, lizard or spock: \n",
      "rock\n",
      "scissors\n",
      "You win!!\n",
      "Do you want to keep on playing?: yes\n",
      "Choose between rock, paper, scissors, lizard or spock: \n",
      "spock\n",
      "scissors\n",
      "You win!!\n",
      "Do you want to keep on playing?: no\n"
     ]
    }
   ],
   "source": [
    "jugar()"
   ]
  },
  {
   "cell_type": "code",
   "execution_count": null,
   "id": "84762965",
   "metadata": {},
   "outputs": [],
   "source": []
  }
 ],
 "metadata": {
  "kernelspec": {
   "display_name": "Python 3 (ipykernel)",
   "language": "python",
   "name": "python3"
  },
  "language_info": {
   "codemirror_mode": {
    "name": "ipython",
    "version": 3
   },
   "file_extension": ".py",
   "mimetype": "text/x-python",
   "name": "python",
   "nbconvert_exporter": "python",
   "pygments_lexer": "ipython3",
   "version": "3.9.12"
  },
  "toc": {
   "base_numbering": 1,
   "nav_menu": {},
   "number_sections": true,
   "sideBar": true,
   "skip_h1_title": false,
   "title_cell": "Table of Contents",
   "title_sidebar": "Contents",
   "toc_cell": false,
   "toc_position": {},
   "toc_section_display": true,
   "toc_window_display": true
  }
 },
 "nbformat": 4,
 "nbformat_minor": 5
}
