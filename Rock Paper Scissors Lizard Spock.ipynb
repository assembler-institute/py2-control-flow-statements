{
 "cells": [
  {
   "cell_type": "markdown",
   "id": "6a8eba1e",
   "metadata": {},
   "source": [
    "<font size=\"6\"> Welcome to rock paper scissors lizard spock!<font>\n",
    "\n",
    "<br>Below you will find the code for the game rock paper scissors lizard spock! To play the game, simply go to the cell that contains the call to the function </br>\n",
    "<br>`letsplay()`</br>\n",
    "<br>and execute it!</br>\n",
    "<br>The rules are simple and they're summarized in the following chart:</br> \n",
    "<img width=400 src= \"https://content.instructables.com/ORIG/FIU/AIWE/I7Q0TCUT/FIUAIWEI7Q0TCUT.jpg?auto=webp&frame=1&fit=bounds&md=5b8102e911f24990417073b8517e53d2\">\n",
    "<br>After each combat, you will be asked whether you want to keep playing or not. Reply \"yes\" if you do. Otherwise reply anything else and the game will stop!</br>\n",
    "<img width=160 src=\"https://media3.giphy.com/media/1ZwekHBiKkBef31Pyt/giphy.gif\">\n"
   ]
  },
  {
   "cell_type": "code",
   "execution_count": 1,
   "id": "5fd40292",
   "metadata": {},
   "outputs": [],
   "source": [
    "choices=[\"rock\",\"paper\",\"scissors\",\"lizard\",\"spock\"]"
   ]
  },
  {
   "cell_type": "code",
   "execution_count": 2,
   "id": "b3a97a0b",
   "metadata": {},
   "outputs": [],
   "source": [
    "# List of possible inputs\n",
    "\n",
    "def combinations():\n",
    "    choices=[\"rock\",\"paper\",\"scissors\",\"lizard\",\"spock\"]\n",
    "    list_combis= []\n",
    "\n",
    "    for elem1 in choices:\n",
    "        for elem2 in choices:        \n",
    "            list_combis.append((elem1,elem2))  #Create Tuple-list \n",
    "    return list_combis"
   ]
  },
  {
   "cell_type": "code",
   "execution_count": 16,
   "id": "e8697687",
   "metadata": {},
   "outputs": [],
   "source": [
    "# List with a tuple of all possible scenarios\n",
    "\n",
    "all_posib = combinations()"
   ]
  },
  {
   "cell_type": "code",
   "execution_count": 4,
   "id": "09070744",
   "metadata": {},
   "outputs": [],
   "source": [
    "# List of combinations that result in a draw\n",
    "\n",
    "draw_comb = [i for i in all_posib if i[0] == i[1]]\n"
   ]
  },
  {
   "cell_type": "code",
   "execution_count": 5,
   "id": "e44b7ce7",
   "metadata": {},
   "outputs": [],
   "source": [
    "# List of combinations that result in a win\n",
    "\n",
    "win_comb = [('rock', 'scissors'), \n",
    "            ('rock', 'lizard'), \n",
    "            ('paper', 'rock'), \n",
    "            ('paper', 'spok'), \n",
    "            ('scissors', 'paper'), \n",
    "            ('scissors', 'lizard'), \n",
    "            ('lizard', 'paper'), \n",
    "            ('lizard', 'spock'), \n",
    "            ('spock', 'rock'), \n",
    "            ('spock', 'scissors') ]"
   ]
  },
  {
   "cell_type": "code",
   "execution_count": 6,
   "id": "0b24bb68",
   "metadata": {},
   "outputs": [],
   "source": [
    "# Defining the function for the computer play. Importing random\n",
    "\n",
    "import random\n",
    "\n",
    "def computer_plays(x):\n",
    "    return x[random.randint(0, len(x)-1)]\n",
    "\n",
    "computer_played = computer_plays(choices)"
   ]
  },
  {
   "cell_type": "code",
   "execution_count": 7,
   "id": "d1006325",
   "metadata": {
    "scrolled": true
   },
   "outputs": [],
   "source": [
    "# Variable for the user input\n",
    "\n",
    "def user():\n",
    "    \n",
    "    algo = True\n",
    "    \n",
    "    while algo == True:\n",
    "        \n",
    "        user_input = input(\"Choose between rock, paper, scissors, lizard or spock! \")\n",
    "        \n",
    "        if user_input in choices:\n",
    "            \n",
    "            algo = False\n",
    "        \n",
    "    return user_input"
   ]
  },
  {
   "cell_type": "code",
   "execution_count": 8,
   "id": "41113e9d",
   "metadata": {},
   "outputs": [],
   "source": [
    "# Defining the function that will determine the result of the combat. 3 variables will keep count of the score\n",
    "\n",
    "def combate(x, y):  # x = user  y = computer\n",
    "    \n",
    "    combat_tuple = (x, y)\n",
    "    \n",
    "    if combat_tuple in draw_comb:\n",
    "        print(f\"Your opponent played {y}! It's a DRAW!!!\")\n",
    "        result = 0\n",
    "        \n",
    "    elif combat_tuple in win_comb:\n",
    "        print(f\"Your opponent played {y}! You win!\")\n",
    "        result = 1\n",
    "        \n",
    "    else:\n",
    "        print(f\"Your opponent played {y}! You lose!\")\n",
    "        result = 2\n",
    "\n",
    "    return result"
   ]
  },
  {
   "cell_type": "code",
   "execution_count": 13,
   "id": "41fd35c1",
   "metadata": {
    "scrolled": true
   },
   "outputs": [],
   "source": [
    "# Putting the game together\n",
    "\n",
    "def letsplay():\n",
    "\n",
    "    ask = input(\"Do you want to play? \")\n",
    "    \n",
    "    draw=win=lose=0\n",
    "\n",
    "    while ask == \"yes\":\n",
    "\n",
    "        combinaciones = combinations()\n",
    "        x = user()\n",
    "        y = computer_plays(choices)\n",
    "        result = combate(x,y)\n",
    "        \n",
    "        if result == 0:\n",
    "            draw +=1\n",
    "        elif result == 1:\n",
    "            win +=1\n",
    "        else:\n",
    "            lose +=1\n",
    "            \n",
    "        print(f'Won: {win}.  Lost: {lose}.  Draw:{draw}' )\n",
    "        \n",
    "        ask = input(\"Do you want to play? \")\n",
    "\n",
    "        if ask == \"yes\":\n",
    "             pass"
   ]
  },
  {
   "cell_type": "code",
   "execution_count": 17,
   "id": "8f8d6edb",
   "metadata": {
    "scrolled": true
   },
   "outputs": [
    {
     "name": "stdout",
     "output_type": "stream",
     "text": [
      "Do you want to play? yes\n",
      "Choose between rock, paper, scissors, lizard or spock! rock\n",
      "Your opponent played rock! It's a DRAW!!!\n",
      "Won: 0.  Lost: 0.  Draw:1\n",
      "Do you want to play? \n"
     ]
    }
   ],
   "source": [
    "letsplay()"
   ]
  }
 ],
 "metadata": {
  "kernelspec": {
   "display_name": "Python 3 (ipykernel)",
   "language": "python",
   "name": "python3"
  },
  "language_info": {
   "codemirror_mode": {
    "name": "ipython",
    "version": 3
   },
   "file_extension": ".py",
   "mimetype": "text/x-python",
   "name": "python",
   "nbconvert_exporter": "python",
   "pygments_lexer": "ipython3",
   "version": "3.9.13"
  },
  "toc": {
   "base_numbering": 1,
   "nav_menu": {},
   "number_sections": true,
   "sideBar": true,
   "skip_h1_title": false,
   "title_cell": "Table of Contents",
   "title_sidebar": "Contents",
   "toc_cell": false,
   "toc_position": {},
   "toc_section_display": true,
   "toc_window_display": false
  },
  "varInspector": {
   "cols": {
    "lenName": 16,
    "lenType": 16,
    "lenVar": 40
   },
   "kernels_config": {
    "python": {
     "delete_cmd_postfix": "",
     "delete_cmd_prefix": "del ",
     "library": "var_list.py",
     "varRefreshCmd": "print(var_dic_list())"
    },
    "r": {
     "delete_cmd_postfix": ") ",
     "delete_cmd_prefix": "rm(",
     "library": "var_list.r",
     "varRefreshCmd": "cat(var_dic_list()) "
    }
   },
   "types_to_exclude": [
    "module",
    "function",
    "builtin_function_or_method",
    "instance",
    "_Feature"
   ],
   "window_display": false
  }
 },
 "nbformat": 4,
 "nbformat_minor": 5
}
