{
 "cells": [
  {
   "cell_type": "code",
   "execution_count": 4,
   "id": "45b0ca90",
   "metadata": {},
   "outputs": [
    {
     "name": "stdout",
     "output_type": "stream",
     "text": [
      "Introduce papel, piedra o tijera: papel\n",
      "PIERDES!!!\n",
      "Quieres jugar?piedra\n"
     ]
    }
   ],
   "source": [
    "lista_de_palabras = [\"piedra\", \"papel\", \"tijera\"]\n",
    "\n",
    "import random\n",
    "\n",
    "ordenador = random.choice(lista_de_palabras) \n",
    "\n",
    "# print (ordenador)\n",
    "\n",
    "def gana (jugador):\n",
    "    \n",
    "    ask = \"yes\"\n",
    "    \n",
    "    while ask == \"yes\":\n",
    "        \n",
    "        jugador = input(\"Introduce papel, piedra o tijera: \")\n",
    "        \n",
    "        if jugador == ordenador:\n",
    "            print(\"empate\")\n",
    "        else:\n",
    "            if jugador == \"papel\" and ordenador == \"piedra\":\n",
    "                print(\"GANAS!!!\")\n",
    "            elif jugador == \"tijera\" and ordenador == \"papel\":\n",
    "                print(\"GANAS!!!\")\n",
    "            elif jugador == \"piedra\" and ordenador == \"tijera\":\n",
    "                print(\"GANAS!!!\")\n",
    "\n",
    "            else:\n",
    "                print(\"PIERDES!!!\")\n",
    "\n",
    "            ask = input(\"Quieres jugar?\" )\n",
    "\n",
    "gana(jugador)"
   ]
  }
 ],
 "metadata": {
  "kernelspec": {
   "display_name": "Python 3 (ipykernel)",
   "language": "python",
   "name": "python3"
  },
  "language_info": {
   "codemirror_mode": {
    "name": "ipython",
    "version": 3
   },
   "file_extension": ".py",
   "mimetype": "text/x-python",
   "name": "python",
   "nbconvert_exporter": "python",
   "pygments_lexer": "ipython3",
   "version": "3.9.13"
  },
  "toc": {
   "base_numbering": 1,
   "nav_menu": {},
   "number_sections": true,
   "sideBar": true,
   "skip_h1_title": false,
   "title_cell": "Table of Contents",
   "title_sidebar": "Contents",
   "toc_cell": false,
   "toc_position": {},
   "toc_section_display": true,
   "toc_window_display": false
  },
  "varInspector": {
   "cols": {
    "lenName": 16,
    "lenType": 16,
    "lenVar": 40
   },
   "kernels_config": {
    "python": {
     "delete_cmd_postfix": "",
     "delete_cmd_prefix": "del ",
     "library": "var_list.py",
     "varRefreshCmd": "print(var_dic_list())"
    },
    "r": {
     "delete_cmd_postfix": ") ",
     "delete_cmd_prefix": "rm(",
     "library": "var_list.r",
     "varRefreshCmd": "cat(var_dic_list()) "
    }
   },
   "types_to_exclude": [
    "module",
    "function",
    "builtin_function_or_method",
    "instance",
    "_Feature"
   ],
   "window_display": false
  }
 },
 "nbformat": 4,
 "nbformat_minor": 5
}
