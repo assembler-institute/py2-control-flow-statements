{
 "cells": [
  {
   "cell_type": "markdown",
   "id": "413f4c2a",
   "metadata": {},
   "source": [
    "# Control Flow Task Sheet\n",
    "\n",
    "# Conditionals, loops and other stuff (solutions)"
   ]
  },
  {
   "cell_type": "markdown",
   "id": "dafcbb48",
   "metadata": {},
   "source": [
    "<img width=80 src=\"https://media.giphy.com/media/KAq5w47R9rmTuvWOWa/giphy.gif\">\n",
    "\n",
    "<img width=150 src=\"Images/Assembler.png\">"
   ]
  },
  {
   "cell_type": "markdown",
   "id": "1eeef4db",
   "metadata": {},
   "source": [
    "# Important:\n",
    "\n",
    "- Comment your code explaining what each part does when you consider it.\n",
    "- We are asking about two types of problems. The first type are solved with code cells, and the second with markdown type cells (where the solution must be thought without executing code cells). This will be indicated in each problem.\n",
    "- Always respect the format of the solution and the instructions!"
   ]
  },
  {
   "cell_type": "markdown",
   "id": "9e90dfa2",
   "metadata": {},
   "source": [
    "# Recommendations:\n",
    "\n",
    "- There are as many ways to solve a problem as there are people in the world. Find yours!\n",
    "- Create as many variables as you want. They cost nothing and are worth it for the sake of clarity.\n",
    "- You can add cells if needed. \n",
    "- Remember that there are two types of cells: code and markdown. Use both. Explanations never hurt.\n",
    "- There are several ways to approach the same problem. Try not to repeat your way of thinking.\n",
    "- If different syntaxes lead to the same result, explore them.\n",
    "- Use internet in a smart way. Don't look at how to solve the problem in its entirety; it is better to learn methods that lead your logical reasoning to the solution.\n",
    "- Once you have a plan to address the problem, try breaking your code into manageable chunks.\n",
    "- Use `print()` and `type()` functions in the middle of your code to understand what your code is actually doing."
   ]
  },
  {
   "cell_type": "markdown",
   "id": "8e40902a",
   "metadata": {},
   "source": [
    "***"
   ]
  },
  {
   "cell_type": "markdown",
   "id": "78e87338",
   "metadata": {},
   "source": [
    "## Ask for a word\n",
    "\n",
    "Ask for a word. If it begins with a vowel, print 'The word you entered begins with a vowel'. If it ends with 'd', 'n' or 's', print 'I like the word .....', replacing the dots with the word entered. Finally, if neither is the case, print 'This exercise does not make any sense."
   ]
  },
  {
   "cell_type": "code",
   "execution_count": 1,
   "id": "231e35ab",
   "metadata": {},
   "outputs": [
    {
     "name": "stdout",
     "output_type": "stream",
     "text": [
      "Please choose a word: Alpaca\n",
      "The word you entered starts with a vowel\n"
     ]
    }
   ],
   "source": [
    "# Type the code here:\n",
    "word = input('Please choose a word: ')\n",
    "\n",
    "if word[0] in 'aeiouáéíóúAEIOUÁÉÍÓÚ':\n",
    "    print('The word you entered starts with a vowel')\n",
    "elif word[-1] in 'dns':\n",
    "    print(f'I like the word {word}')\n",
    "else:\n",
    "    print('This exercise does not make any sense')"
   ]
  },
  {
   "cell_type": "markdown",
   "id": "a0e09b6b",
   "metadata": {},
   "source": [
    "## Even or odd\n",
    "\n",
    "Write a program that asks for an integer and writes to the screen:\n",
    "\n",
    "- “The number entered is EVEN”, if it is even.\n",
    "\n",
    "\n",
    "- “The number entered is ODD”, in case it is odd."
   ]
  },
  {
   "cell_type": "code",
   "execution_count": 1,
   "id": "d74c01ef",
   "metadata": {},
   "outputs": [
    {
     "name": "stdout",
     "output_type": "stream",
     "text": [
      "Please choose an integer: 4\n",
      "The number entered is EVEN\n"
     ]
    }
   ],
   "source": [
    "# Type the code here:\n",
    "number = int(input('Please choose an integer: '))\n",
    "\n",
    "if number % 2 == 0:\n",
    "    print('The number entered is EVEN')\n",
    "else:\n",
    "    print('The number entered is ODD')"
   ]
  },
  {
   "cell_type": "markdown",
   "id": "0b9246d8",
   "metadata": {},
   "source": [
    "## Solve without coding\n",
    "\n",
    "- What does the following code return?\n",
    "\n",
    "> `for i in range(2,26,2):`\n",
    ">\n",
    "> $\\qquad$ `print(i)`\n",
    "\n",
    "- Also, what does `range(2,26,2)` return?\n",
    "- What type of variable is `range(2,26,2)`?"
   ]
  },
  {
   "cell_type": "markdown",
   "id": "c2c15546",
   "metadata": {},
   "source": [
    "*Write the solution in this markdown cell:*\n",
    "\n",
    "\n",
    ".\n",
    "\n",
    "\n",
    "."
   ]
  },
  {
   "cell_type": "code",
   "execution_count": null,
   "id": "ac7ce450",
   "metadata": {},
   "outputs": [],
   "source": [
    "# Type the code here:\n",
    "for i in range(2,26,2):\n",
    "    print(i)"
   ]
  },
  {
   "cell_type": "code",
   "execution_count": 5,
   "id": "08b5d775",
   "metadata": {},
   "outputs": [
    {
     "name": "stdout",
     "output_type": "stream",
     "text": [
      "range(2, 26, 2) \n",
      "type(range(2,26,2)) =  <class 'range'>\n"
     ]
    }
   ],
   "source": [
    "print(range(2,26,2), '\\ntype(range(2,26,2)) = ', type(range(2,26,2)))"
   ]
  },
  {
   "cell_type": "markdown",
   "id": "811114bb",
   "metadata": {},
   "source": [
    "## Major, minor, even or odd\n",
    "\n",
    "Ask for two integer numbers as input and print which one is greater. Consider the case where they are equal. Within the print itself, include a message indicating whether the number that is greater is even or not.\n",
    "\n",
    "**Tip:** Don't even think about nesting ifs!! It is not a good practice."
   ]
  },
  {
   "cell_type": "code",
   "execution_count": 26,
   "id": "dbe9fbf8",
   "metadata": {},
   "outputs": [
    {
     "name": "stdout",
     "output_type": "stream",
     "text": [
      "Enter the first number: 7\n",
      "Enter the second number: 567\n",
      "The second number entered is the largest\n",
      "and it is odd\n"
     ]
    }
   ],
   "source": [
    "# Type the code here:\n",
    "number_1 = int(input(\"Enter the first number: \"))\n",
    "number_2 = int(input(\"Enter the second number: \"))\n",
    "\n",
    "if number_1 > number_2:\n",
    "    print('The first number entered is the largest')\n",
    "    N = number_1\n",
    "elif number_1 < number_2:\n",
    "    print('The second number entered is the largest')\n",
    "    N = number_2\n",
    "else:\n",
    "    print('You entered the same number twice')\n",
    "    N = number_1\n",
    "    \n",
    "if N % 2 == 0:\n",
    "    print('and it is even')\n",
    "else:\n",
    "    print('and it is odd')"
   ]
  },
  {
   "cell_type": "markdown",
   "id": "97aea7bf",
   "metadata": {},
   "source": [
    "## Adding odd numbers\n",
    "\n",
    "Of the first 50 numbers, how much do only the odd numbers add up to?\n",
    "\n",
    "(*Solution: 625*)"
   ]
  },
  {
   "cell_type": "code",
   "execution_count": 2,
   "id": "953d50e1",
   "metadata": {},
   "outputs": [
    {
     "name": "stdout",
     "output_type": "stream",
     "text": [
      "625\n"
     ]
    }
   ],
   "source": [
    "# Type the code here:\n",
    "total_sum = 0\n",
    "for n in range(1,50):\n",
    "    if n % 2 != 0:\n",
    "        total_sum += n\n",
    "print(total_sum)"
   ]
  },
  {
   "cell_type": "markdown",
   "id": "c76ccd86",
   "metadata": {},
   "source": [
    "## How old would I be in the year...\n",
    "Ask for the year of birth as input, and then ask for any year, either in the past or in the future from that date. If the year is before your date of birth, print the remaining years to reach the date of birth (e.g. `10 years to go until I am born`). If the year is later, print how old you will be then."
   ]
  },
  {
   "cell_type": "code",
   "execution_count": 25,
   "id": "7806145f",
   "metadata": {},
   "outputs": [
    {
     "name": "stdout",
     "output_type": "stream",
     "text": [
      "Enter your year of birth: 2000\n",
      "Enter any year: 1900\n",
      "In the year 1900, there were 100 years left until you were born.\n"
     ]
    }
   ],
   "source": [
    "# Type the code here:\n",
    "year_birth = int(input('Enter your year of birth: '))\n",
    "another_year = int(input('Enter any year: '))\n",
    "\n",
    "if another_year > year_birth:\n",
    "    print('In the year %d, you will be %d years old.' %(another_year, another_year - year_birth))\n",
    "\n",
    "elif another_year < year_birth:\n",
    "    print('In the year %d, there were %d years left until you were born.' %(another_year, abs(another_year - year_birth)))\n",
    "else:\n",
    "    print('Oh! You are being born at this very moment.')"
   ]
  },
  {
   "cell_type": "markdown",
   "id": "21563dfd",
   "metadata": {},
   "source": [
    "## Passwords"
   ]
  },
  {
   "cell_type": "markdown",
   "id": "ea7d433f",
   "metadata": {},
   "source": [
    "Suppose you are in charge of the logging part of a mail server. The operation is as follows: the password defined by a user is saved as a string in a variable and will not be changed again. First, implement this; choose any password you can think of.\n",
    "\n",
    "The subsequent operation is based on requesting a password on the screen and printing if the entered password is correct or not, when compared with the saved variable.\n",
    "\n",
    "**Extra difficulty (or extra simplicity):** the passwords on this page are not case sensitive, so if the password is 'dog', if the user enters 'DoG', 'DOG' or doG, logging in will be successful."
   ]
  },
  {
   "cell_type": "code",
   "execution_count": 29,
   "id": "41e4c04a",
   "metadata": {},
   "outputs": [
    {
     "name": "stdout",
     "output_type": "stream",
     "text": [
      "Enter password: macana\n",
      "The password is correct\n"
     ]
    }
   ],
   "source": [
    "# Type the code here:\n",
    "key = \"MAcanA\"\n",
    "password = input(\"Enter password: \")\n",
    "if key.lower() == password.lower():\n",
    "    print(\"The password is correct\")\n",
    "else:\n",
    "    print(\"The password does not match\")"
   ]
  },
  {
   "cell_type": "markdown",
   "id": "8c17d7d5",
   "metadata": {},
   "source": [
    "## Isolated question: \n",
    "\n",
    "What happens if the `type()` function is applied on the response to `type()` on a variable? And what does it mean?\n",
    "\n",
    "***Tip:*** *lean on google when you're lost.*"
   ]
  },
  {
   "cell_type": "code",
   "execution_count": 30,
   "id": "465ca630",
   "metadata": {},
   "outputs": [
    {
     "data": {
      "text/plain": [
       "type"
      ]
     },
     "execution_count": 30,
     "metadata": {},
     "output_type": "execute_result"
    }
   ],
   "source": [
    "# Type the code here:\n",
    "a = ' Hola'\n",
    "type(type(a))"
   ]
  },
  {
   "cell_type": "markdown",
   "id": "87ae21d6",
   "metadata": {},
   "source": [
    "## Mean\n",
    "\n",
    "Write a program with the following steps:\n",
    "\n",
    "a- Ask how many numbers the user will enter in total (let us call it N).\\\n",
    "b- Ask the user to enter these N numbers (not necessarily integers, they can be decimals), one by one, each as input.\\\n",
    "c- Print on the screen the value of the average of those N numbers.\\\n",
    "d- The average of N numbers must be rounded up! 😎\n",
    "\n",
    "***Tip:*** *within the math library you can find two very useful methods: floor() and ceil()*"
   ]
  },
  {
   "cell_type": "code",
   "execution_count": 35,
   "id": "b635513f",
   "metadata": {},
   "outputs": [
    {
     "name": "stdout",
     "output_type": "stream",
     "text": [
      "Enter how many numbers we are going to average in total: 5\n",
      "Enter a number (int or float): 1\n",
      "Enter a number (int or float): 15\n",
      "Enter a number (int or float): 20\n",
      "Enter a number (int or float): 10\n",
      "Enter a number (int or float): 6\n",
      "\n",
      "The average of the introduced numbers is  10.4\n",
      "\n",
      "The ceiling value (the smallest integer greater than or equal to) for this average is  11\n"
     ]
    }
   ],
   "source": [
    "# Type the code here:\n",
    "import math\n",
    "\n",
    "N = int(input('Enter how many numbers we are going to average in total: '))\n",
    "total_sum = 0\n",
    "\n",
    "for _ in range(N):\n",
    "    number = float(input('Enter a number (int or float): '))\n",
    "    total_sum += number\n",
    "\n",
    "print()\n",
    "print('The average of the introduced numbers is',total_sum/N)\n",
    "print()\n",
    "print('The ceiling value (the smallest integer greater than or equal to) for this average is',\n",
    "      math.ceil(total_sum/N))"
   ]
  },
  {
   "cell_type": "code",
   "execution_count": 41,
   "id": "73519584",
   "metadata": {},
   "outputs": [
    {
     "data": {
      "text/plain": [
       "10.4"
      ]
     },
     "execution_count": 41,
     "metadata": {},
     "output_type": "execute_result"
    }
   ],
   "source": [
    "(1+15+20+10+6)/5"
   ]
  },
  {
   "cell_type": "markdown",
   "id": "cfd2fc72",
   "metadata": {},
   "source": [
    "## Fibonacci? Who is Fibonacci?\n",
    "\n",
    "Keep this problem in mind. We will use it again in Functions."
   ]
  },
  {
   "cell_type": "markdown",
   "id": "3ed8c9b3",
   "metadata": {},
   "source": [
    "Have you heard of the Fibonacci sequence? Do you know their applications?\n",
    "\n",
    "The Fibonacci numbers are defined by the following equations:\n",
    "\n",
    "> $f_0 = 0$\n",
    ">\n",
    "> $f_1 = 1$\n",
    ">\n",
    "> $f_n = f_{n-1} + f_{n-2}$\n",
    "\n",
    "where $n$ corresponds to the natural numbers $(\\,\\mathbb{N}_0\\,)$. Using a `while`, of the first 20 elements of this sequence, print only the odd ones. \n",
    "\n",
    "**Help/solution:**\n",
    "- term 1: 1\n",
    "- term 2: 1\n",
    "- term 3: 2 (DO NOT PRINT, IT IS EVEN)\n",
    "- term 4: 3\n",
    "- term 5: 5\n",
    "- term 6: 8 (DO NOT PRINT, IT IS EVEN)\n",
    "- ...\n",
    "- term 20: 6765"
   ]
  },
  {
   "cell_type": "code",
   "execution_count": 1,
   "id": "ae4dae83",
   "metadata": {},
   "outputs": [
    {
     "name": "stdout",
     "output_type": "stream",
     "text": [
      "Fibonacci sequence:\n",
      "Term 1  -->  1\n",
      "Term 2  -->  1\n",
      "Term 4  -->  3\n",
      "Term 5  -->  5\n",
      "Term 7  -->  13\n",
      "Term 8  -->  21\n",
      "Term 10  -->  55\n",
      "Term 11  -->  89\n",
      "Term 13  -->  233\n",
      "Term 14  -->  377\n",
      "Term 16  -->  987\n",
      "Term 17  -->  1597\n",
      "Term 19  -->  4181\n",
      "Term 20  -->  6765\n"
     ]
    }
   ],
   "source": [
    "# Type the code here:\n",
    "f0, f1 = 0, 1\n",
    "count = 0\n",
    "\n",
    "print(\"Fibonacci sequence:\")\n",
    "while count <= 20:\n",
    "#    print('count: ',count,')', f0, end = '')\n",
    "    if f0 % 2 != 0:\n",
    "        print('Term',count, ' --> ', f0)\n",
    "\n",
    "    fn = f1 + f0\n",
    "    f0 = f1\n",
    "    f1 = fn\n",
    "    count += 1"
   ]
  },
  {
   "cell_type": "markdown",
   "id": "b2209889",
   "metadata": {},
   "source": [
    "## Which word is longer?\n",
    "\n",
    "Write a program that receives words (composed only of alphabetic characters) as input, and indicates which word is the longest. The program must be able to receive as many words as one wants and, after entering the last word, the ingestion must be interrupted with any non-alphabetic character. If the words are the same length, print any of them (maybe just the fist one?).\n",
    "\n",
    "\n",
    "**Help:** the [isalpha()](https://www.programiz.com/python-programming/methods/string/isalpha) method can help you stop word ingestion. Think how to implement it."
   ]
  },
  {
   "cell_type": "code",
   "execution_count": 39,
   "id": "3ed74d9f",
   "metadata": {},
   "outputs": [
    {
     "name": "stdout",
     "output_type": "stream",
     "text": [
      "The longest word program:\n",
      "Enter the first word: Lucho\n",
      "Word 2: Marta\n",
      "Word 3: goat\n",
      "Word 4: octopus\n",
      "Word 5: $\n",
      "and the longest word is octopus\n"
     ]
    }
   ],
   "source": [
    "# Type the code here:\n",
    "print('The longest word program:')\n",
    "\n",
    "word = input('Enter the first word: ')\n",
    "word_max = word\n",
    "maximum_length = len(word)\n",
    "count = 2\n",
    "\n",
    "while (word.isalpha()):\n",
    "    word = input(f'Word {count}: ')\n",
    "    if len(word) > maximum_length:\n",
    "        word_max = word\n",
    "        maximum_length = len(word)\n",
    "    count += 1\n",
    "        \n",
    "print('and the longest word is', word_max)"
   ]
  }
 ],
 "metadata": {
  "kernelspec": {
   "display_name": "Python 3 (ipykernel)",
   "language": "python",
   "name": "python3"
  },
  "language_info": {
   "codemirror_mode": {
    "name": "ipython",
    "version": 3
   },
   "file_extension": ".py",
   "mimetype": "text/x-python",
   "name": "python",
   "nbconvert_exporter": "python",
   "pygments_lexer": "ipython3",
   "version": "3.9.12"
  },
  "toc": {
   "base_numbering": 1,
   "nav_menu": {},
   "number_sections": true,
   "sideBar": true,
   "skip_h1_title": true,
   "title_cell": "Table of Contents",
   "title_sidebar": "Contents",
   "toc_cell": false,
   "toc_position": {
    "height": "calc(100% - 180px)",
    "left": "10px",
    "top": "150px",
    "width": "254.85px"
   },
   "toc_section_display": true,
   "toc_window_display": true
  }
 },
 "nbformat": 4,
 "nbformat_minor": 5
}
