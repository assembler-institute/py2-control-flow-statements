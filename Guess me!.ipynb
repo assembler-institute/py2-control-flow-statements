{
 "cells": [
  {
   "cell_type": "code",
   "execution_count": 1,
   "id": "7e82592e",
   "metadata": {},
   "outputs": [],
   "source": [
    "# Defining the number to guess\n",
    "\n",
    "import random\n",
    "\n",
    "def computer_plays():\n",
    "    return random.randint(1,10)"
   ]
  },
  {
   "cell_type": "code",
   "execution_count": 2,
   "id": "e66540b8",
   "metadata": {
    "scrolled": true
   },
   "outputs": [
    {
     "name": "stdout",
     "output_type": "stream",
     "text": [
      "<class 'int'>\n"
     ]
    }
   ],
   "source": [
    "print(type(computer_plays()))"
   ]
  },
  {
   "cell_type": "code",
   "execution_count": 3,
   "id": "b777b6ba",
   "metadata": {},
   "outputs": [],
   "source": [
    "# Defining user input\n",
    "\n",
    "def user_input():\n",
    "    \n",
    "    player_input = int(input(\"Please guess a number from 1 to 10: \"))\n",
    "    \n",
    "    return player_input"
   ]
  },
  {
   "cell_type": "code",
   "execution_count": 7,
   "id": "cdc2ea17",
   "metadata": {
    "scrolled": true
   },
   "outputs": [
    {
     "name": "stdout",
     "output_type": "stream",
     "text": [
      "Please guess a number from 1 to 10: 1\n",
      "Your guess is incorrect, please try again!\n",
      "Please guess a number from 1 to 10: 2\n",
      "Your guess is incorrect, please try again!\n",
      "Please guess a number from 1 to 10: 3\n",
      "Your guess is incorrect, please try again!\n",
      "Please guess a number from 1 to 10: 4\n",
      "Your guess is incorrect, please try again!\n",
      "Please guess a number from 1 to 10: 5\n",
      "You've already guessed 5 times! Please think this through!\n",
      "Please guess a number from 1 to 10: 6\n",
      "Your guess is incorrect, please try again!\n",
      "Please guess a number from 1 to 10: 7\n",
      "Your guess is incorrect, please try again!\n",
      "Please guess a number from 1 to 10: 8\n",
      "Your guess is incorrect, please try again!\n",
      "Please guess a number from 1 to 10: 9\n",
      "It took you 9 attempts to guess the number! Congratulations!\n"
     ]
    }
   ],
   "source": [
    "# Putting the game together\n",
    "\n",
    "\n",
    "counter = 0\n",
    "keep_going = True\n",
    "\n",
    "computer_played = computer_plays()\n",
    "\n",
    "while keep_going==True:\n",
    "    counter +=1\n",
    "    player_input = user_input()\n",
    "    if player_input == computer_played:\n",
    "        keep_going = False\n",
    "        print(f\"It took you {counter} attempts to guess the number! Congratulations!\")\n",
    "    elif counter == 5:\n",
    "        print(f\"You've already guessed {counter} times! Please think this through!\")\n",
    "    else:\n",
    "        print(f\"Your guess is incorrect, please try again!\")"
   ]
  }
 ],
 "metadata": {
  "kernelspec": {
   "display_name": "Python 3 (ipykernel)",
   "language": "python",
   "name": "python3"
  },
  "language_info": {
   "codemirror_mode": {
    "name": "ipython",
    "version": 3
   },
   "file_extension": ".py",
   "mimetype": "text/x-python",
   "name": "python",
   "nbconvert_exporter": "python",
   "pygments_lexer": "ipython3",
   "version": "3.9.13"
  },
  "toc": {
   "base_numbering": 1,
   "nav_menu": {
    "height": "50px",
    "width": "254px"
   },
   "number_sections": true,
   "sideBar": true,
   "skip_h1_title": false,
   "title_cell": "Table of Contents",
   "title_sidebar": "Contents",
   "toc_cell": false,
   "toc_position": {},
   "toc_section_display": true,
   "toc_window_display": false
  },
  "varInspector": {
   "cols": {
    "lenName": 16,
    "lenType": 16,
    "lenVar": 40
   },
   "kernels_config": {
    "python": {
     "delete_cmd_postfix": "",
     "delete_cmd_prefix": "del ",
     "library": "var_list.py",
     "varRefreshCmd": "print(var_dic_list())"
    },
    "r": {
     "delete_cmd_postfix": ") ",
     "delete_cmd_prefix": "rm(",
     "library": "var_list.r",
     "varRefreshCmd": "cat(var_dic_list()) "
    }
   },
   "types_to_exclude": [
    "module",
    "function",
    "builtin_function_or_method",
    "instance",
    "_Feature"
   ],
   "window_display": false
  }
 },
 "nbformat": 4,
 "nbformat_minor": 5
}
