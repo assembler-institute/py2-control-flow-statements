{
 "cells": [
  {
   "cell_type": "markdown",
   "id": "d4d62e2e",
   "metadata": {},
   "source": [
    "# LiveCoding: Control Flow Statements\n",
    "\n",
    "# Conditionals, loops and other stuff (solutions)\n",
    "\n",
    "by [Luciano Gabbanelli](https://www.linkedin.com/in/luciano-gabbanelli-ph-d-75302218)"
   ]
  },
  {
   "cell_type": "markdown",
   "id": "a4e66536",
   "metadata": {},
   "source": [
    "<img width=80 src=\"https://media.giphy.com/media/KAq5w47R9rmTuvWOWa/giphy.gif\">\n",
    "\n",
    "<img width=150 src=\"Images/Assembler.png\">\n",
    "\n",
    "***"
   ]
  },
  {
   "cell_type": "markdown",
   "id": "eb101adf",
   "metadata": {},
   "source": [
    "## Warm up!\n",
    "\n",
    "Some unseen operators"
   ]
  },
  {
   "cell_type": "markdown",
   "id": "843fe7a3",
   "metadata": {},
   "source": [
    "### Logical operators\n",
    "\n",
    "The input is boolean, and so is the output\n",
    "\n",
    "<img width=500 src=\"https://i.stack.imgur.com/nl0W8.jpg\">"
   ]
  },
  {
   "cell_type": "code",
   "execution_count": 18,
   "id": "b8887002",
   "metadata": {},
   "outputs": [
    {
     "data": {
      "text/plain": [
       "False"
      ]
     },
     "execution_count": 18,
     "metadata": {},
     "output_type": "execute_result"
    }
   ],
   "source": [
    "# Try some code here:\n",
    "not True"
   ]
  },
  {
   "cell_type": "code",
   "execution_count": 19,
   "id": "abedaaca",
   "metadata": {},
   "outputs": [
    {
     "data": {
      "text/plain": [
       "False"
      ]
     },
     "execution_count": 19,
     "metadata": {},
     "output_type": "execute_result"
    }
   ],
   "source": [
    "True and False"
   ]
  },
  {
   "cell_type": "code",
   "execution_count": 20,
   "id": "842679f8",
   "metadata": {},
   "outputs": [
    {
     "data": {
      "text/plain": [
       "True"
      ]
     },
     "execution_count": 20,
     "metadata": {},
     "output_type": "execute_result"
    }
   ],
   "source": [
    "True or False"
   ]
  },
  {
   "cell_type": "markdown",
   "id": "af87b95c",
   "metadata": {},
   "source": [
    "Do parentheses matter as in math?"
   ]
  },
  {
   "cell_type": "code",
   "execution_count": 21,
   "id": "7bccd8d2",
   "metadata": {},
   "outputs": [
    {
     "data": {
      "text/plain": [
       "True"
      ]
     },
     "execution_count": 21,
     "metadata": {},
     "output_type": "execute_result"
    }
   ],
   "source": [
    "# Try some code here:\n",
    "not (True and False)"
   ]
  },
  {
   "cell_type": "code",
   "execution_count": 22,
   "id": "a8067ca6",
   "metadata": {},
   "outputs": [
    {
     "data": {
      "text/plain": [
       "False"
      ]
     },
     "execution_count": 22,
     "metadata": {},
     "output_type": "execute_result"
    }
   ],
   "source": [
    "not True and False"
   ]
  },
  {
   "cell_type": "code",
   "execution_count": 23,
   "id": "8d029bb2",
   "metadata": {},
   "outputs": [
    {
     "data": {
      "text/plain": [
       "True"
      ]
     },
     "execution_count": 23,
     "metadata": {},
     "output_type": "execute_result"
    }
   ],
   "source": [
    "(not False) or (not True)"
   ]
  },
  {
   "cell_type": "markdown",
   "id": "b07e3b85",
   "metadata": {},
   "source": [
    "### Assignment operators\n",
    "\n",
    "`==` is a comparison operator, while `=` is an assignment operator...\n",
    "\n",
    "<img width=200 style=\"float: center;\" src=\"https://media.giphy.com/media/APqEbxBsVlkWSuFpth/giphy-downsized-large.gif\">"
   ]
  },
  {
   "cell_type": "markdown",
   "id": "bd7f4981",
   "metadata": {},
   "source": [
    "| Assignment  Operators | Description  |\n",
    "| :---: | :---: |\n",
    "| `=` | assign value of right side of expression to left side operand |\n",
    "| `+=` | add and assign |\n",
    "| `-=` | subtract and assign |\n",
    "| ... | and so on and so forth |"
   ]
  },
  {
   "cell_type": "code",
   "execution_count": 24,
   "id": "559de80d",
   "metadata": {},
   "outputs": [],
   "source": [
    "# Try some code here:\n",
    "age = 18"
   ]
  },
  {
   "cell_type": "code",
   "execution_count": 25,
   "id": "83a4878a",
   "metadata": {},
   "outputs": [],
   "source": [
    "age += 3"
   ]
  },
  {
   "cell_type": "code",
   "execution_count": 26,
   "id": "2e46477d",
   "metadata": {},
   "outputs": [
    {
     "data": {
      "text/plain": [
       "21"
      ]
     },
     "execution_count": 26,
     "metadata": {},
     "output_type": "execute_result"
    }
   ],
   "source": [
    "age"
   ]
  },
  {
   "cell_type": "markdown",
   "id": "64c40ef9",
   "metadata": {},
   "source": [
    "And you can already imagine how it turns out for other arithmetic operators. Try it for yourself!"
   ]
  },
  {
   "cell_type": "markdown",
   "id": "01c4732d",
   "metadata": {},
   "source": [
    "### Relational operators (the return)\n",
    "\n",
    "Do you remember the relational operators, which compare numbers or strings and decide the relationship between them?\n",
    "\n",
    "These operators return `1`, which represents `True`, or `0`, which represents `False`.\n",
    "\n",
    "| Relational Operators | Description  |\n",
    "| :---: | :---: |\n",
    "| `==` | equal to. If the values are equal, then True |\n",
    "| `!=` | NOT equal to. If values of two operands are not equal, then condition becomes True.  |\n",
    "| `< , >` | smaller than, greater than |\n",
    "| `<= , >=` | smaller than or equal to, greater than or equal to |\n",
    "\n",
    "These logical conditions from mathematics can be used in several ways, most commonly in \"if statements\" and loops."
   ]
  },
  {
   "cell_type": "markdown",
   "id": "3e8ac8ba",
   "metadata": {},
   "source": [
    "## Control Flow"
   ]
  },
  {
   "cell_type": "markdown",
   "id": "e0af9905",
   "metadata": {},
   "source": [
    "A program’s control flow is the order in which the program’s code executes. It is regulated by conditional statements, loops statements and transfer statements.\n",
    "\n",
    "<img src=\"Images/python-flow-control-statements.png\">\n",
    "\n",
    "<p style=\"text-align: center;\"><font size=3> <b>Python control flow statements</b></font></p>"
   ]
  },
  {
   "cell_type": "markdown",
   "id": "29142765",
   "metadata": {},
   "source": [
    "### The `if`, `elif` and `else` statements"
   ]
  },
  {
   "cell_type": "markdown",
   "id": "e669fb0d",
   "metadata": {},
   "source": [
    "The `if` executes some `statement(s)` only if some condition holds, or chooses `statement(s)` to be executed depending on several mutually exclusive conditions (using logical operators for instance). It uses `if`, `elif`, and `else` clauses (the last two are optional). \n",
    "\n",
    "> **Syntax**:\n",
    ">\n",
    "> if *expression*:\n",
    "> <pre><i> statement(s)</i></pre>\n",
    ">\n",
    "> elif *expression*:\n",
    ">\n",
    "> <pre><i> statement(s)</i></pre> \n",
    ">\n",
    "> elif *expression*:\n",
    "> <pre><i> statement(s)</i></pre> \n",
    "> ...\n",
    ">else:\n",
    "> <pre><i> statement(s)</i></pre>"
   ]
  },
  {
   "cell_type": "markdown",
   "id": "192721af",
   "metadata": {},
   "source": [
    "**Warning! Be careful with the indentation.** Python relies on indentation (whitespace at the beginning of a line) to define scope in the code. Other programming languages often use curly-brackets for this purpose. If statement, without indentation will raise an error.\n",
    "\n",
    "The keyword `elif`, which means \"if the previous conditions were not true, then try this condition\", is short for `else if`. This is,\n",
    "\n",
    "> ...\n",
    ">\n",
    "> else:\n",
    "> <pre>if <i>expression</i>:</pre>\n",
    "> <pre><i>     statement(s)</pre> \n",
    "\n",
    "and is useful to avoid excessive indentation.\n",
    "\n",
    "The `statement(s)` belonging to the `else` are executed **if and only if** all the conditions in the `if` and `elif` are not met.\n",
    "\n",
    "<img width=\"300\" src=\"Images/If-Statement-Control-Flow-in-Java.png\">\n",
    "\n"
   ]
  },
  {
   "cell_type": "markdown",
   "id": "80261884",
   "metadata": {},
   "source": [
    "**Task:** What does the following code print?\n",
    "\n",
    "<pre>        <b>Do not cheat! Don't excecute it!! :p</b> </pre>"
   ]
  },
  {
   "cell_type": "code",
   "execution_count": null,
   "id": "8740fac1",
   "metadata": {},
   "outputs": [],
   "source": [
    "list_of_I_dont_know = ['fish', 'bar', 'Buzz']\n",
    "if 'fisk' in list_of_I_dont_know:\n",
    "    print(1)\n",
    "    if 10 < 20:       \n",
    "        print('Hi!')\n",
    "    \n",
    "    print(30)\n",
    "elif 'bar' in list_of_I_dont_know:\n",
    "    if 10 >= 20:       \n",
    "        print(list_of_I_dont_know)       \n",
    "    \n",
    "    print(5, 50, sep = '33')\n",
    "elif 'Buzz' in list_of_I_dont_know:\n",
    "\n",
    "    if 'a' in 'banana':\n",
    "        print('Bye!')\n",
    "        \n",
    "    print(list_of_I_dont_know)\n",
    "\n",
    "else:\n",
    "    print(6)\n",
    "    \n",
    "print('Now what?')"
   ]
  },
  {
   "cell_type": "markdown",
   "id": "97456829",
   "metadata": {},
   "source": [
    "**Task:** Ask for a number and classify it according to whether it is positive, negative or zero."
   ]
  },
  {
   "cell_type": "code",
   "execution_count": 27,
   "id": "498d7eb7",
   "metadata": {},
   "outputs": [
    {
     "name": "stdout",
     "output_type": "stream",
     "text": [
      "Please enter a positive or negative integer: 8\n",
      "The chosen number, x = 8, is positive\n"
     ]
    }
   ],
   "source": [
    "# Type the code here:\n",
    "x = int(input(\"Please enter a positive or negative integer: \"))\n",
    "\n",
    "if x < 0:\n",
    "    print(f'The chosen number, {x}, is negative')\n",
    "elif x == 0:\n",
    "    print('The chosen number is zero')\n",
    "else:\n",
    "    print(f'The chosen number, x = {x}, is positive')"
   ]
  },
  {
   "cell_type": "markdown",
   "id": "41672bac",
   "metadata": {},
   "source": [
    "### Short hand `if` ... `else` and how to use logical operators"
   ]
  },
  {
   "cell_type": "code",
   "execution_count": 52,
   "id": "bf3da738",
   "metadata": {},
   "outputs": [
    {
     "name": "stdout",
     "output_type": "stream",
     "text": [
      "Both conditions are True\n"
     ]
    }
   ],
   "source": [
    "# Type the code here:\n",
    "a = 200\n",
    "b = 33\n",
    "c = 500\n",
    "print(\"Both conditions are True\") if a > b and c > b else print(\"B\")"
   ]
  },
  {
   "cell_type": "markdown",
   "id": "9a8c1668",
   "metadata": {},
   "source": [
    "### The `pass` statement\n",
    "\n",
    "`if` statements cannot be empty, but if you for some reason have an `if` statement with no content, put in the `pass` statement to avoid getting an error."
   ]
  },
  {
   "cell_type": "code",
   "execution_count": 53,
   "id": "9dce2a50",
   "metadata": {},
   "outputs": [],
   "source": [
    "# Type the code here:\n",
    "if b < a:\n",
    "    pass"
   ]
  },
  {
   "cell_type": "markdown",
   "id": "ee18c54d",
   "metadata": {},
   "source": [
    "### The `for` statement"
   ]
  },
  {
   "cell_type": "markdown",
   "id": "561e8c31",
   "metadata": {},
   "source": [
    "Python’s `for` statement iterates over the items of any sequence (a string, a list, a tuple, a set, or a dictionary), in the order that they appear in the sequence.\n",
    "\n",
    "The `for` loop does not require an indexing variable to set beforehand."
   ]
  },
  {
   "cell_type": "markdown",
   "id": "5c66c36a",
   "metadata": {},
   "source": [
    "**Prediction:** without excecuting the code, can you guess the result of the following algorithm?"
   ]
  },
  {
   "cell_type": "code",
   "execution_count": 34,
   "id": "133f5739",
   "metadata": {},
   "outputs": [
    {
     "name": "stdout",
     "output_type": "stream",
     "text": [
      "6\n"
     ]
    }
   ],
   "source": [
    "total = 0\n",
    "for num in range(3):\n",
    "    total = total + num + 1\n",
    "print(total)"
   ]
  },
  {
   "cell_type": "markdown",
   "id": "304a236e",
   "metadata": {},
   "source": [
    "**Task:** Extract vowels from a name introduced as input and print them separated by hyphens (-).\n",
    "\n",
    "\n",
    "**Tip:** We must through a string!\n",
    "\n",
    "<img width=350 src=\"https://media.giphy.com/media/h2j4loCwuNalWAmwFU/giphy.gif\">"
   ]
  },
  {
   "cell_type": "code",
   "execution_count": null,
   "id": "03a53a3e",
   "metadata": {},
   "outputs": [],
   "source": [
    "# Press shift + tab inside the parenthesis"
   ]
  },
  {
   "cell_type": "code",
   "execution_count": 14,
   "id": "ccf3f24a",
   "metadata": {
    "scrolled": true
   },
   "outputs": [
    {
     "ename": "NameError",
     "evalue": "name 'string_vowels' is not defined",
     "output_type": "error",
     "traceback": [
      "\u001b[1;31m---------------------------------------------------------------------------\u001b[0m",
      "\u001b[1;31mNameError\u001b[0m                                 Traceback (most recent call last)",
      "Input \u001b[1;32mIn [14]\u001b[0m, in \u001b[0;36m<cell line: 1>\u001b[1;34m()\u001b[0m\n\u001b[1;32m----> 1\u001b[0m \u001b[43mstring_vowels\u001b[49m\u001b[38;5;241m.\u001b[39mjoin()\n",
      "\u001b[1;31mNameError\u001b[0m: name 'string_vowels' is not defined"
     ]
    }
   ],
   "source": [
    "string_vowels.join()"
   ]
  },
  {
   "cell_type": "code",
   "execution_count": 24,
   "id": "fd28cde3",
   "metadata": {},
   "outputs": [
    {
     "name": "stdout",
     "output_type": "stream",
     "text": [
      "Please enter a name: Luciano\n",
      "u-i-a-o\n"
     ]
    }
   ],
   "source": [
    "# Type the code here:\n",
    "name = input(\"Please enter a name: \")\n",
    "\n",
    "string_vowels = '' # reset the string, avoid infinite growth of the string every time you run the code\n",
    "for character in name:\n",
    "    if character in 'aeiouáéíóúAEIOUÁÉÍÓÚ':\n",
    "        #print(character)\n",
    "        string_vowels += character\n",
    "\n",
    "print('-'.join(string_vowels))"
   ]
  },
  {
   "cell_type": "code",
   "execution_count": 25,
   "id": "8d764a5d",
   "metadata": {},
   "outputs": [
    {
     "data": {
      "text/plain": [
       "'uiao'"
      ]
     },
     "execution_count": 25,
     "metadata": {},
     "output_type": "execute_result"
    }
   ],
   "source": [
    "string_vowels"
   ]
  },
  {
   "cell_type": "markdown",
   "id": "44115759",
   "metadata": {},
   "source": [
    "The `del()` keyword is used to **delete objects**. In Python everything is an object, so the `del()` keyword can also be used to delete variables, lists, or parts of a list, etc. Parenthesis are optional."
   ]
  },
  {
   "cell_type": "code",
   "execution_count": 26,
   "id": "43edb5ab",
   "metadata": {},
   "outputs": [],
   "source": [
    "# Type the code here:\n",
    "del string_vowels"
   ]
  },
  {
   "cell_type": "markdown",
   "id": "c627c993",
   "metadata": {},
   "source": [
    "**Lists** are one of the 4 built-in data types used to store collections of data; they are created using square brackets.\n",
    "\n",
    "**Task:** Iterate over the following list and print the longer word."
   ]
  },
  {
   "cell_type": "code",
   "execution_count": 16,
   "id": "631328cf",
   "metadata": {},
   "outputs": [
    {
     "name": "stdout",
     "output_type": "stream",
     "text": [
      "The word window contains 6 characters\n",
      "The word defenestrate contains 12 characters\n"
     ]
    }
   ],
   "source": [
    "words = ['cat', 'window', 'defenestrate', 'map']\n",
    "\n",
    "# Type the code here:\n",
    "for word in words:\n",
    "    if len(word) > 3:\n",
    "        print(f'The word {word} contains {len(word)} characters')"
   ]
  },
  {
   "cell_type": "markdown",
   "id": "81fe8b4e",
   "metadata": {},
   "source": [
    "### The `range()` function"
   ]
  },
  {
   "cell_type": "markdown",
   "id": "c129f833",
   "metadata": {},
   "source": [
    "If you do need to iterate over a sequence of numbers, the built-in function `range()` comes in handy. It generates arithmetic progressions, starting at 0 by default, incrementing by 1 (by default), and ending at a specified number.\n",
    "\n",
    "**Task:** Print the numbers from 3 to 9 (both included) next to their squares. "
   ]
  },
  {
   "cell_type": "code",
   "execution_count": 5,
   "id": "2f09e043",
   "metadata": {},
   "outputs": [
    {
     "data": {
      "text/plain": [
       "range(0, 10)"
      ]
     },
     "execution_count": 5,
     "metadata": {},
     "output_type": "execute_result"
    }
   ],
   "source": [
    "# Type some code here:\n",
    "range(10) # type shift + tab inside the parenthesis."
   ]
  },
  {
   "cell_type": "code",
   "execution_count": 6,
   "id": "f6ee0eb6",
   "metadata": {},
   "outputs": [
    {
     "data": {
      "text/plain": [
       "[0, 1, 2, 3, 4, 5, 6, 7, 8, 9]"
      ]
     },
     "execution_count": 6,
     "metadata": {},
     "output_type": "execute_result"
    }
   ],
   "source": [
    "list(range(10)) # then I don't have to write the full list"
   ]
  },
  {
   "cell_type": "code",
   "execution_count": 7,
   "id": "e8bfffb2",
   "metadata": {},
   "outputs": [
    {
     "data": {
      "text/plain": [
       "[3, 5, 7, 9]"
      ]
     },
     "execution_count": 7,
     "metadata": {},
     "output_type": "execute_result"
    }
   ],
   "source": [
    "list(range(3,10,2))"
   ]
  },
  {
   "cell_type": "code",
   "execution_count": 167,
   "id": "bdfba6db",
   "metadata": {},
   "outputs": [
    {
     "name": "stdout",
     "output_type": "stream",
     "text": [
      "3 9\n",
      "4 16\n",
      "5 25\n",
      "6 36\n",
      "7 49\n",
      "8 64\n",
      "9 81\n"
     ]
    }
   ],
   "source": [
    "for n in range(3,10):\n",
    "    print(n, n**2)"
   ]
  },
  {
   "cell_type": "markdown",
   "id": "049dd49d",
   "metadata": {},
   "source": [
    "### The `break` statement"
   ]
  },
  {
   "cell_type": "markdown",
   "id": "3e1223b5",
   "metadata": {},
   "source": [
    "The `break` statement exits the innermost `for` or `while` loop before it has looped through all the items."
   ]
  },
  {
   "cell_type": "markdown",
   "id": "21f78e8d",
   "metadata": {},
   "source": [
    "**Task:** Make a program that prints the words from the list previously defined as `words`, but stops when it finds a word that contains the letter 'e' and prints it (note the difference when you put the break before or after the print)."
   ]
  },
  {
   "cell_type": "code",
   "execution_count": 17,
   "id": "aaf7a2c6",
   "metadata": {},
   "outputs": [
    {
     "data": {
      "text/plain": [
       "['cat', 'window', 'defenestrate', 'map']"
      ]
     },
     "execution_count": 17,
     "metadata": {},
     "output_type": "execute_result"
    }
   ],
   "source": [
    "words"
   ]
  },
  {
   "cell_type": "code",
   "execution_count": 18,
   "id": "d3a79243",
   "metadata": {},
   "outputs": [
    {
     "name": "stdout",
     "output_type": "stream",
     "text": [
      "cat\n",
      "window\n",
      "Word 'defenestrate' contains letter 'e'!! We stop\n"
     ]
    }
   ],
   "source": [
    "# Type some code here:\n",
    "for w in words:    \n",
    "    if \"e\" in w:\n",
    "        print(f\"Word '{w}' contains letter 'e'!! We stop\")\n",
    "        break\n",
    "    print(w)"
   ]
  },
  {
   "cell_type": "markdown",
   "id": "6aa4acc5",
   "metadata": {},
   "source": [
    "### The `continue` statement\n",
    "\n",
    "With the continue statement we can stop the current iteration, and continue with the next one."
   ]
  },
  {
   "cell_type": "markdown",
   "id": "cd6cbcd7",
   "metadata": {},
   "source": [
    "**Task:** If we now want to print all the words in the same list that do not contain the letter 'e', then we must not break the conditional but finish the iteration and move on to the next one."
   ]
  },
  {
   "cell_type": "code",
   "execution_count": 35,
   "id": "eacf73ed",
   "metadata": {},
   "outputs": [
    {
     "data": {
      "text/plain": [
       "['cat', 'window', 'defenestrate', 'map']"
      ]
     },
     "execution_count": 35,
     "metadata": {},
     "output_type": "execute_result"
    }
   ],
   "source": [
    "words"
   ]
  },
  {
   "cell_type": "code",
   "execution_count": 19,
   "id": "8d915f19",
   "metadata": {},
   "outputs": [
    {
     "name": "stdout",
     "output_type": "stream",
     "text": [
      "cat\n",
      "window\n",
      "map\n"
     ]
    }
   ],
   "source": [
    "# Type some code here:\n",
    "for w in words:    \n",
    "    if \"e\" in w:\n",
    "        continue\n",
    "    print(w)"
   ]
  },
  {
   "cell_type": "markdown",
   "id": "b20fb99b",
   "metadata": {},
   "source": [
    "### `else` in `for` loop\n",
    "\n",
    "The `else` keyword in a `for` loop specifies a block of code to be executed when the loop is finished.\n",
    "\n",
    "**Task:** Print the numbers from 0 to 5. Report when the algorithm is done using `else`."
   ]
  },
  {
   "cell_type": "code",
   "execution_count": 8,
   "id": "13ea8c2e",
   "metadata": {},
   "outputs": [
    {
     "name": "stdout",
     "output_type": "stream",
     "text": [
      "0\n",
      "1\n",
      "2\n",
      "3\n",
      "4\n",
      "5\n",
      "I'm done!\n"
     ]
    }
   ],
   "source": [
    "# Type some code here:\n",
    "for x in range(6):\n",
    "    print(x)\n",
    "else:\n",
    "    print(\"I'm done!\")"
   ]
  },
  {
   "cell_type": "markdown",
   "id": "9e5aa911",
   "metadata": {},
   "source": [
    "**Important:** The `else` block will NOT be executed if the loop is stopped by a `break` statement.\n",
    "\n",
    "**Task:** Do the same as before, but using a `break` statement."
   ]
  },
  {
   "cell_type": "code",
   "execution_count": 9,
   "id": "01dda35a",
   "metadata": {},
   "outputs": [
    {
     "name": "stdout",
     "output_type": "stream",
     "text": [
      "0\n",
      "1\n",
      "2\n",
      "3\n",
      "4\n",
      "5\n"
     ]
    }
   ],
   "source": [
    "# Type some code here:\n",
    "for x in range(60):\n",
    "    print(x)\n",
    "    if x == 5: break\n",
    "else:\n",
    "    print(\"I'm done!\")"
   ]
  },
  {
   "cell_type": "markdown",
   "id": "a6116416",
   "metadata": {},
   "source": [
    "### The `pass` statement\n",
    "\n",
    "Just like in conditional statements, `for` loops cannot be empty. If you, for some reason, have a `for` loop with no content, put in the `pass` statement to avoid getting an error."
   ]
  },
  {
   "cell_type": "markdown",
   "id": "055b0847",
   "metadata": {},
   "source": [
    "**Task:** Iterate over the indices of a sequence combining `range()` and `len()`."
   ]
  },
  {
   "cell_type": "code",
   "execution_count": 21,
   "id": "5f833f6c",
   "metadata": {},
   "outputs": [
    {
     "data": {
      "text/plain": [
       "['cat', 'window', 'defenestrate', 'map']"
      ]
     },
     "execution_count": 21,
     "metadata": {},
     "output_type": "execute_result"
    }
   ],
   "source": [
    "words"
   ]
  },
  {
   "cell_type": "code",
   "execution_count": 22,
   "id": "ed030b91",
   "metadata": {},
   "outputs": [],
   "source": [
    "# Type some code here:\n",
    "for i in range(len(words)):\n",
    "    pass\n",
    "    #print(i, a[i])"
   ]
  },
  {
   "cell_type": "markdown",
   "id": "9125ad8c",
   "metadata": {},
   "source": [
    "### The `while` statement"
   ]
  },
  {
   "cell_type": "markdown",
   "id": "a89fa7c4",
   "metadata": {},
   "source": [
    "The `while` statement supports repeated execution of a statement or block of statements (loop body) that is controlled by a conditional expression.\n",
    "\n",
    "> **Syntax**:\n",
    "> while *expression*:\n",
    "> <pre><i> statement(s)</i> </pre>"
   ]
  },
  {
   "cell_type": "markdown",
   "id": "ebdc7b55",
   "metadata": {},
   "source": [
    "**Task:** Print numbers from 0 to 25 that are multiples of 3, except for 12 and 21."
   ]
  },
  {
   "cell_type": "code",
   "execution_count": 28,
   "id": "9e94850e",
   "metadata": {},
   "outputs": [
    {
     "name": "stdout",
     "output_type": "stream",
     "text": [
      "0\n",
      "3\n",
      "6\n",
      "9\n",
      "15\n",
      "18\n",
      "24\n"
     ]
    }
   ],
   "source": [
    "# Type some code here:\n",
    "n = 0\n",
    "while n < 25:\n",
    "    if n != 12:\n",
    "        if n != 21:\n",
    "            print(n)\n",
    "    n += 3"
   ]
  },
  {
   "cell_type": "markdown",
   "id": "782b20b4",
   "metadata": {},
   "source": [
    "**<center><font size=\"5\">Be careful: remember to increment n.</font></center>**\n",
    "\n",
    "<center><font size=\"3\">Otherwise your code can get stuck and never get out of the loop!!!</font></center>\n",
    "\n",
    "<center>(assignment operators are particularly useful)</center>\n",
    "\n",
    "<img width=350 src=\"https://media.giphy.com/media/RKiOMSy7LLcA0/giphy.gif\">\n",
    "\n"
   ]
  },
  {
   "cell_type": "markdown",
   "id": "b415c1bf",
   "metadata": {},
   "source": [
    "**Task:** Create a counter that counts from 5 to 0, taking one second between printing and printing.\n",
    "\n",
    "- **Tip 1:** The function time.sleep() will be useful\n",
    "\n",
    "- **Tip 2:** In command (Esc.) mode, the kernel will break if the 'i' key is pressed twice."
   ]
  },
  {
   "cell_type": "code",
   "execution_count": 44,
   "id": "649fada7",
   "metadata": {},
   "outputs": [
    {
     "name": "stdout",
     "output_type": "stream",
     "text": [
      "5\n",
      "4\n",
      "3\n",
      "2\n",
      "1\n",
      "0\n"
     ]
    }
   ],
   "source": [
    "# Type some code here:\n",
    "import time\n",
    "counter = 6\n",
    "while counter > 0:\n",
    "    time.sleep(1) \n",
    "    counter -=1\n",
    "    print(counter)"
   ]
  },
  {
   "cell_type": "markdown",
   "id": "ec0d8d97",
   "metadata": {},
   "source": [
    "**Task:** Do the same as before, but break the code at number 3."
   ]
  },
  {
   "cell_type": "code",
   "execution_count": 45,
   "id": "18ebf154",
   "metadata": {},
   "outputs": [
    {
     "name": "stdout",
     "output_type": "stream",
     "text": [
      "5\n",
      "4\n",
      "3\n"
     ]
    }
   ],
   "source": [
    "# Type some code here:\n",
    "counter = 6\n",
    "while counter > 0:\n",
    "    time.sleep(1)\n",
    "    if counter == 3:\n",
    "        break\n",
    "    counter -=1\n",
    "    print(counter)\n"
   ]
  },
  {
   "cell_type": "markdown",
   "id": "7c8c9a6a",
   "metadata": {},
   "source": [
    "**Note:** You can also use the `continue` statement ot the `else` statement, as we have done in the `for` loop. Essentially, they are used the same.\n",
    "\n",
    "**Task:** Now do not break in number 3, but just do not print this value and continue with the next iteration. Finish the code printing something with an `else`."
   ]
  },
  {
   "cell_type": "code",
   "execution_count": 47,
   "id": "bed8c071",
   "metadata": {},
   "outputs": [
    {
     "name": "stdout",
     "output_type": "stream",
     "text": [
      "5\n",
      "4\n",
      "2\n",
      "1\n",
      "0\n",
      "The value of the counter is 0\n"
     ]
    }
   ],
   "source": [
    "# Type some code here:\n",
    "import time\n",
    "counter = 6\n",
    "while counter > 0:\n",
    "    time.sleep(1)\n",
    "    counter -=1\n",
    "    if counter == 3:\n",
    "        continue\n",
    "    print(counter)\n",
    "else:\n",
    "    print(\"The value of the counter is\", counter)"
   ]
  },
  {
   "cell_type": "markdown",
   "id": "71b943a5",
   "metadata": {},
   "source": [
    "### The `os` module\n",
    "\n",
    "This module provides a portable way of using operating system dependent functionality.\n",
    "\n",
    "More insights in [os—Miscellaneous operating system interfaces](https://docs.python.org/3/library/os.html)"
   ]
  },
  {
   "cell_type": "code",
   "execution_count": 17,
   "id": "274d0fde",
   "metadata": {},
   "outputs": [
    {
     "name": "stdout",
     "output_type": "stream",
     "text": [
      "Hi, Luciano Gabbanelli! How are you?\n"
     ]
    }
   ],
   "source": [
    "import os\n",
    "print(f'Hi, {os.getlogin()}! How are you?')"
   ]
  }
 ],
 "metadata": {
  "kernelspec": {
   "display_name": "Python 3 (ipykernel)",
   "language": "python",
   "name": "python3"
  },
  "language_info": {
   "codemirror_mode": {
    "name": "ipython",
    "version": 3
   },
   "file_extension": ".py",
   "mimetype": "text/x-python",
   "name": "python",
   "nbconvert_exporter": "python",
   "pygments_lexer": "ipython3",
   "version": "3.9.12"
  },
  "toc": {
   "base_numbering": 1,
   "nav_menu": {},
   "number_sections": true,
   "sideBar": true,
   "skip_h1_title": true,
   "title_cell": "Table of Contents",
   "title_sidebar": "Contents",
   "toc_cell": false,
   "toc_position": {
    "height": "calc(100% - 180px)",
    "left": "10px",
    "top": "150px",
    "width": "318.663px"
   },
   "toc_section_display": true,
   "toc_window_display": true
  }
 },
 "nbformat": 4,
 "nbformat_minor": 5
}
